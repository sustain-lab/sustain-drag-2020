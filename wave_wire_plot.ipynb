{
 "cells": [
  {
   "cell_type": "code",
   "execution_count": null,
   "metadata": {},
   "outputs": [],
   "source": [
    "from datetime import datetime, timedelta\n",
    "import numpy as np\n",
    "import os\n",
    "import matplotlib.pyplot as plt"
   ]
  },
  {
   "cell_type": "code",
   "execution_count": null,
   "metadata": {},
   "outputs": [],
   "source": [
    "#read wave wire data\n",
    "#calculate the mean elevation for each wave wire and each run\n",
    "#plot fan speed vs. mean elevation, 4 wave wires on each plot\n",
    "#start time 2020-11-06 17:50:00\n",
    "#dont use the first minute of each spin up period\n",
    "#remove the average of the resting wave elevation\n"
   ]
  },
  {
   "cell_type": "code",
   "execution_count": null,
   "metadata": {},
   "outputs": [],
   "source": [
    "\"\"\"Reads data from wave wire output file(s) in TOA5 format.\n",
    "    If filenames is a string, process a single file. If it is\n",
    "    a list of strings, process files in order and concatenate.\"\"\"\n",
    "\n",
    "def read_wavewire_from_toa5(filenames):\n",
    "\n",
    "    if type(filenames) is str:\n",
    "        print('Reading ', filenames)\n",
    "        data = [line.rstrip() for line in open(filenames).readlines()[4:]]\n",
    "    elif type(filenames) is list:\n",
    "        \n",
    "        data = []\n",
    "        \n",
    "        for filename in filenames:\n",
    "            print('Reading ', os.path.basename(filename))\n",
    "            data += [line.rstrip() for line in open(filename).readlines()[4:]]\n",
    "    else:\n",
    "        raise RuntimeError('filenames must be string or list')\n",
    "    times = []\n",
    "  \n",
    "    d = {'w1': [], 'w2': [], 'w3': [], 'w4': [], 'd1': [], 'd2': [], 'd3': [], 'd4': []}\n",
    "    print('Processing wave wire time series..')\n",
    "    for line in data:\n",
    "        line = line.replace('\"', '').split(',')\n",
    "        timestr = line[0]\n",
    "        #print(line)\n",
    "        if len(timestr) == 19:\n",
    "            time = datetime.strptime(timestr, '%Y-%m-%d %H:%M:%S')\n",
    "        elif len(timestr) == 21:\n",
    "            time = datetime.strptime(timestr[:19], '%Y-%m-%d %H:%M:%S')\n",
    "            time += timedelta(seconds=float(timestr[-2:]))\n",
    "        else:\n",
    "            time = datetime.strptime(timestr[:19], '%Y-%m-%d %H:%M:%S')\n",
    "            time += timedelta(seconds=float(timestr[-3:]))\n",
    "        times.append(time)\n",
    "        d['w1'].append(float(line[2].strip('\"')))\n",
    "        d['w2'].append(float(line[3].strip('\"')))\n",
    "        d['w3'].append(float(line[4].strip('\"')))\n",
    "        d['w4'].append(float(line[5].strip('\"')))\n",
    "        d['d1'].append(float(line[6].strip('\"')))\n",
    "        d['d2'].append(float(line[7].strip('\"')))\n",
    "        d['d3'].append(float(line[8].strip('\"')))\n",
    "        d['d4'].append(float(line[9].strip('\"')))\n",
    "    for key in d.keys():\n",
    "        d[key] = np.array(d[key])\n",
    "    for i in range(1, d[key].size -1, 1):\n",
    "        if d[key][i] < 0.2:\n",
    "            d[key][i] = 0.5 * (d[key][i-1] + d[key][i+1])\n",
    "    return np.array(times), d"
   ]
  },
  {
   "cell_type": "code",
   "execution_count": null,
   "metadata": {},
   "outputs": [],
   "source": [
    "#filepath where wave wire data is found\n",
    "path = '/Users/katie/SUSTAINcode/wave_wires/'\n",
    "time, elev = read_wavewire_from_toa5([path + \"TOA5_OSSwaveX4.elev_26_2020_11_06_1700.dat\", path + \"TOA5_OSSwaveX4.elev_27_2020_11_06_1800.dat\", path + \"TOA5_OSSwaveX4.elev_28_2020_11_06_1900.dat\"])\n"
   ]
  },
  {
   "cell_type": "code",
   "execution_count": null,
   "metadata": {},
   "outputs": [],
   "source": [
    "def TimeIndex(time_dat, year, month, day, hour, minute):\n",
    "        date_need = datetime(year, month, day, hour, minute, 0)\n",
    "        diff = abs(time_dat[0]-date_need)\n",
    "        index = 0\n",
    "        for i in range (1, len(time_dat) - 1):\n",
    "            newDiff = abs(time_dat[i]-date_need)\n",
    "            if (newDiff < diff):\n",
    "                diff = newDiff\n",
    "                index = i\n",
    "        return index\n",
    "\n",
    "def filtering(wire_dict, time):\n",
    "    filtered = {}\n",
    "    for key in wire_dict:\n",
    "        avg = []\n",
    "        for test in range(0,11):\n",
    "            hour = (17 * 60 + 51 + test * 10 ) // 60 #moving to the next Hz and convert to usuable time\n",
    "            minute = (51 + test * 10 ) % 60\n",
    "            start = TimeIndex(time, 2020, 11, 6, hour, minute)\n",
    "            hour = (60 + test * 10 ) // 60\n",
    "            minute = (60 + test * 10 ) % 60\n",
    "            end = TimeIndex(time, 2020, 11, 6, 17+ hour, minute)\n",
    "            #mean = wire_dict[key][start:end][wire_dict[key][start:end] > 0.1].mean() #takes out the values that are bad\n",
    "            avg.append(np.mean(wire_dict[key][start:end]))\n",
    "            #avg.append(mean)\n",
    "        filtered[key] = avg - avg[0] #subtract out the initial height average\n",
    "    return filtered        "
   ]
  },
  {
   "cell_type": "code",
   "execution_count": null,
   "metadata": {
    "scrolled": true
   },
   "outputs": [],
   "source": [
    "filt_elev = filtering(elev, time)"
   ]
  },
  {
   "cell_type": "code",
   "execution_count": null,
   "metadata": {},
   "outputs": [],
   "source": [
    "f_speed = np.array([0, 5, 10, 15, 20, 25, 30, 35, 40, 45, 50]) #fan speeds used"
   ]
  },
  {
   "cell_type": "code",
   "execution_count": null,
   "metadata": {},
   "outputs": [],
   "source": [
    "plt.rcParams[\"figure.figsize\"] = (10,3)\n",
    "plt.plot(f_speed, filt_elev['w1'], \"purple\", marker = \".\", label = \"Wire 1 (9.30)\")\n",
    "plt.plot(f_speed, filt_elev['w2'], \"red\", marker = \".\",label = \"Wire 2 (1.53)\")\n",
    "plt.plot(f_speed, filt_elev['w3'], \"blue\", marker = \".\",label = \"Wire 3 (10.80)\")\n",
    "plt.plot(f_speed, filt_elev['w4'], \"orange\",marker = \".\", label = \"Wire 4 (6.14)\")\n",
    "plt.legend()\n",
    "plt.xlabel(\"fan speed (Hz)\")\n",
    "plt.ylabel(\"elevation (m)\")\n",
    "plt.title(\"Fan Speed vs Water Elevation\")"
   ]
  },
  {
   "cell_type": "code",
   "execution_count": null,
   "metadata": {},
   "outputs": [],
   "source": [
    "plt.plot(time[61189:191982],elev['w2'][61189:191982], 'red')\n",
    "plt.xlabel(\"time (utc)\")\n",
    "plt.ylabel(\"elevation (m)\")\n",
    "plt.title(\"Time vs elevation (to find drop)\")\n",
    "plt.axvline(x=time[156220])\n",
    "#plt.ylim(0.5, 0.75)\n"
   ]
  },
  {
   "cell_type": "code",
   "execution_count": null,
   "metadata": {},
   "outputs": [],
   "source": [
    "plt.plot(time[155200:159000],elev['w2'][155200:159000], 'red')\n",
    "plt.axvline(x=time[156270])\n",
    "plt.ylim(0.5, 0.75)\n",
    "plt.xlabel(\"time (utc)\")\n",
    "plt.ylabel(\"elevation (m)\")\n",
    "plt.title(\"Time vs elevation (to find drop)\")\n",
    "print(\"drop at \", time[156270])"
   ]
  },
  {
   "cell_type": "code",
   "execution_count": null,
   "metadata": {},
   "outputs": [],
   "source": []
  },
  {
   "cell_type": "code",
   "execution_count": null,
   "metadata": {},
   "outputs": [],
   "source": []
  }
 ],
 "metadata": {
  "kernelspec": {
   "display_name": "Python 3",
   "language": "python",
   "name": "python3"
  },
  "language_info": {
   "codemirror_mode": {
    "name": "ipython",
    "version": 3
   },
   "file_extension": ".py",
   "mimetype": "text/x-python",
   "name": "python",
   "nbconvert_exporter": "python",
   "pygments_lexer": "ipython3",
   "version": "3.7.3"
  }
 },
 "nbformat": 4,
 "nbformat_minor": 2
}
