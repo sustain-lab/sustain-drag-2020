{
 "cells": [
  {
   "cell_type": "code",
   "execution_count": null,
   "metadata": {},
   "outputs": [],
   "source": [
    "from datetime import datetime, timedelta\n",
    "import matplotlib.pyplot as plt\n",
    "import numpy as np"
   ]
  },
  {
   "cell_type": "code",
   "execution_count": null,
   "metadata": {},
   "outputs": [],
   "source": [
    "def read_hotfilm(filename):\n",
    "    data = open(filename).readlines()\n",
    "    date = data[0].strip()\n",
    "    time = data[1].strip()\n",
    "    month, day, year = [int(a) for a in date.split('/')]\n",
    "    hour, minute, second = [int(a) for a in time.split()[0].split(':')]\n",
    "    start_time = datetime(year, month, day, hour, minute, second)\n",
    "    seconds, v1, v2 = [], [], []\n",
    "    for line in data[8:]:\n",
    "        values = line.strip().split('\\t')\n",
    "        seconds.append(float(values[0]))\n",
    "        v1.append(float(values[3]))\n",
    "        v2.append(float(values[4]))\n",
    "    seconds = np.array(seconds)\n",
    "    v1 = np.array(v1)\n",
    "    v2 = np.array(v2)\n",
    "    return seconds, v1, v2, start_time"
   ]
  },
  {
   "cell_type": "code",
   "execution_count": null,
   "metadata": {},
   "outputs": [],
   "source": [
    "DATAPATH = '/home/milan/Work/sustain/data/sustain-drag-2020'"
   ]
  },
  {
   "cell_type": "code",
   "execution_count": null,
   "metadata": {},
   "outputs": [],
   "source": [
    "#filename = DATAPATH + '/hotfilm/hotfilm_jonswap_series1.txt'\n",
    "#filename = DATAPATH + '/hotfilm/hotfilm_jonswap_series2.txt'\n",
    "filename = DATAPATH + '/20200122/hotfilm_9cm_height.dat'"
   ]
  },
  {
   "cell_type": "code",
   "execution_count": null,
   "metadata": {},
   "outputs": [],
   "source": [
    "seconds, v1, v2, start_time = read_hotfilm(filename)"
   ]
  },
  {
   "cell_type": "code",
   "execution_count": null,
   "metadata": {},
   "outputs": [],
   "source": [
    "fig = plt.figure(figsize=(16, 6))\n",
    "plt.plot(seconds, v1)\n",
    "plt.plot(seconds, v2)\n",
    "plt.xlabel('Time [s]')\n",
    "plt.ylabel('Voltage')"
   ]
  },
  {
   "cell_type": "code",
   "execution_count": null,
   "metadata": {},
   "outputs": [],
   "source": []
  }
 ],
 "metadata": {
  "kernelspec": {
   "display_name": "Python 3",
   "language": "python",
   "name": "python3"
  },
  "language_info": {
   "codemirror_mode": {
    "name": "ipython",
    "version": 3
   },
   "file_extension": ".py",
   "mimetype": "text/x-python",
   "name": "python",
   "nbconvert_exporter": "python",
   "pygments_lexer": "ipython3",
   "version": "3.6.8"
  }
 },
 "nbformat": 4,
 "nbformat_minor": 4
}
